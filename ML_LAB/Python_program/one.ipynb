{
 "cells": [
  {
   "cell_type": "code",
   "execution_count": 1,
   "metadata": {},
   "outputs": [
    {
     "name": "stdout",
     "output_type": "stream",
     "text": [
      "Ascending Order: ['apple', 'banana', 'grape', 'kiwi', 'orange']\n",
      "Descending Order: ['orange', 'kiwi', 'grape', 'banana', 'apple']\n"
     ]
    }
   ],
   "source": [
    "strings = [\"apple\", \"orange\", \"banana\", \"grape\", \"kiwi\"]\n",
    "\n",
    "ascending_order = sorted(strings)\n",
    "print(\"Ascending Order:\", ascending_order)\n",
    "\n",
    "\n",
    "descending_order = sorted(strings, reverse=True)\n",
    "print(\"Descending Order:\", descending_order)\n"
   ]
  },
  {
   "cell_type": "code",
   "execution_count": null,
   "metadata": {},
   "outputs": [],
   "source": []
  }
 ],
 "metadata": {
  "kernelspec": {
   "display_name": "Python 3",
   "language": "python",
   "name": "python3"
  },
  "language_info": {
   "codemirror_mode": {
    "name": "ipython",
    "version": 3
   },
   "file_extension": ".py",
   "mimetype": "text/x-python",
   "name": "python",
   "nbconvert_exporter": "python",
   "pygments_lexer": "ipython3",
   "version": "3.12.0"
  }
 },
 "nbformat": 4,
 "nbformat_minor": 4
}
